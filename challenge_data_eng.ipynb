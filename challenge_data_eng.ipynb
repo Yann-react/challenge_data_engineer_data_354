{
 "cells": [
  {
   "cell_type": "code",
   "execution_count": 1,
   "id": "613ade88-9851-40b9-9649-f390a349c083",
   "metadata": {},
   "outputs": [],
   "source": [
    "import pandas as pd\n",
    "import json\n",
    "import requests\n",
    "from pymongo import MongoClient\n"
   ]
  },
  {
   "cell_type": "code",
   "execution_count": 23,
   "id": "4445765c-809a-441a-9fa4-16790f3062d7",
   "metadata": {},
   "outputs": [],
   "source": [
    "# les id des stations\n",
    "first_station_id = 283164601\n",
    "second_station_id = 283181971\n",
    "\n",
    "url = f\"https://airqino-api.magentalab.it/v3/getStationHourlyAvg/\"\n",
    "\n",
    "# fonction d'extraction des données de l'API pour les stations \n",
    "def extract(url, station_id):\n",
    "    url_station = url + str(station_id) \n",
    "    \n",
    "    #envoie de requet get a l'API et recuperation en json\n",
    "    response = requests.get(url_station)  \n",
    "    data = response.json() \n",
    "    \n",
    "    #conversion de la reponse json en data frame\n",
    "    df = pd.DataFrame(data[\"data\"])  \n",
    "    return df \n",
    "\n",
    "# extraction des données pour la première station et la deuxième station respectivement a la postion de leur id\n",
    "df_first_station = extract(url, first_station_id)\n",
    "df_second_station = extract(url, second_station_id)\n",
    "\n"
   ]
  },
  {
   "cell_type": "code",
   "execution_count": 24,
   "id": "032db1b4-17b7-4375-bfc5-fc217f4ff635",
   "metadata": {},
   "outputs": [],
   "source": [
    "\n",
    "# Fonction pour transformer les données extraites\n",
    "def transform(df_station):\n",
    "    # Sélectionner les colonnes numériques\n",
    "    column_num = df_station.select_dtypes(include=['float64', 'int64']).columns\n",
    "    \n",
    "    # Remplacer les valeurs manquantes par la moyenne de chaque colonne\n",
    "    df_station = df_station.fillna(value=df_station[column_num].mean())\n",
    "    \n",
    "    # Supprimer les doublons\n",
    "    df_station = df_station.drop_duplicates()\n",
    "    \n",
    "    #creation de la colonne days pour stocker le temps en jour de la colonne timestamp\n",
    "    df_station[\"timestamp\"] = pd.to_datetime(df_station[\"timestamp\"])\n",
    "    df_station[\"days\"] = pd.to_datetime(df_station['timestamp'].dt.date)\n",
    "    \n",
    "    # selection des colonnes pour le calcule de la moyenne journalière de CO et PM2.5\n",
    "    column_for_avg = df_station[[\"days\", \"CO\", \"PM2.5\"]]\n",
    "    avg_by_day = column_for_avg.groupby(\"days\").agg({\"CO\": \"mean\", \"PM2.5\": \"mean\"})\n",
    "    avg_by_day = avg_by_day.reset_index()\n",
    "\n",
    "    # Renommer la colonne \"PM2.5\" en \"PM2_5\" pour la manipulation facile lors de requete sql \n",
    "    avg_by_day.rename(columns={\"PM2.5\": \"PM2_5\"}, inplace=True)\n",
    "    return avg_by_day  \n",
    "\n",
    "# Transformation des données de la première station et de la deuxième station\n",
    "transform_first_station = transform(df_first_station)\n",
    "transform_second_station = transform(df_second_station)\n"
   ]
  },
  {
   "cell_type": "code",
   "execution_count": 25,
   "id": "cbc27afb-4c0b-4f58-9b1d-b1b8109528f9",
   "metadata": {},
   "outputs": [
    {
     "name": "stdout",
     "output_type": "stream",
     "text": [
      "360 documents insérés dans station_283164601\n",
      "347 documents insérés dans station_283181971\n"
     ]
    }
   ],
   "source": [
    "\n",
    "# Fonction pour charger les données transformées dans MongoDB\n",
    "def load(df, db_name, collection_name):\n",
    "    # Connexion à MongoDB \n",
    "    client = MongoClient('mongodb://localhost:27017/')\n",
    "    db = client[db_name]  # Accéder à la base de données\n",
    "    collection = db[collection_name]  # Accéder à la collection\n",
    "\n",
    "    # Convertir le DataFrame en liste de dictionnaires\n",
    "    data_dict = df.to_dict(\"records\")\n",
    "\n",
    "    # Insérer les documents dans la collection MongoDB\n",
    "    collection.insert_many(data_dict)\n",
    "    print(f\"{len(data_dict)} documents insérés dans {collection_name}\")  \n",
    "\n",
    "# Chargement des données de chaque station dans la base de données MongoDB\n",
    "load(transform_first_station, \"air_quality\", \"station_283164601\")\n",
    "load(transform_second_station, \"air_quality\", \"station_283181971\")"
   ]
  },
  {
   "cell_type": "code",
   "execution_count": null,
   "id": "71aa1769-a93c-42be-b0cd-a473d140df22",
   "metadata": {},
   "outputs": [],
   "source": []
  }
 ],
 "metadata": {
  "kernelspec": {
   "display_name": "Python 3 (ipykernel)",
   "language": "python",
   "name": "python3"
  },
  "language_info": {
   "codemirror_mode": {
    "name": "ipython",
    "version": 3
   },
   "file_extension": ".py",
   "mimetype": "text/x-python",
   "name": "python",
   "nbconvert_exporter": "python",
   "pygments_lexer": "ipython3",
   "version": "3.12.4"
  }
 },
 "nbformat": 4,
 "nbformat_minor": 5
}
